{
  "nbformat": 4,
  "nbformat_minor": 0,
  "metadata": {
    "colab": {
      "name": "Neural Networks.ipynb",
      "provenance": [],
      "authorship_tag": "ABX9TyMlmxbFh0o1VB35HUh574ya",
      "include_colab_link": true
    },
    "kernelspec": {
      "name": "python3",
      "display_name": "Python 3"
    },
    "language_info": {
      "name": "python"
    }
  },
  "cells": [
    {
      "cell_type": "markdown",
      "metadata": {
        "id": "view-in-github",
        "colab_type": "text"
      },
      "source": [
        "<a href=\"https://colab.research.google.com/github/singhania0601/TensorFlow/blob/main/Neural_Networks.ipynb\" target=\"_parent\"><img src=\"https://colab.research.google.com/assets/colab-badge.svg\" alt=\"Open In Colab\"/></a>"
      ]
    },
    {
      "cell_type": "code",
      "execution_count": 1,
      "metadata": {
        "colab": {
          "base_uri": "https://localhost:8080/"
        },
        "id": "6wulkjbA73yk",
        "outputId": "9b1d56b1-0167-4945-e514-0efa18e681be"
      },
      "outputs": [
        {
          "output_type": "stream",
          "name": "stdout",
          "text": [
            "`%tensorflow_version` only switches the major version: 1.x or 2.x.\n",
            "You set: `2.x  # this line is not required unless you are in a notebook`. This will be interpreted as: `2.x`.\n",
            "\n",
            "\n",
            "TensorFlow 2.x selected.\n"
          ]
        }
      ],
      "source": [
        "%tensorflow_version 2.x  # this line is not required unless you are in a notebook\n",
        "# TensorFlow and tf.keras\n",
        "import tensorflow as tf\n",
        "from tensorflow import keras\n",
        "\n",
        "# Helper libraries\n",
        "import numpy as np\n",
        "import matplotlib.pyplot as plt"
      ]
    },
    {
      "cell_type": "code",
      "source": [
        "fashion_mnist = keras.datasets.fashion_mnist  # load dataset\n",
        "print(fashion_mnist)\n",
        "fashion_mnist\n",
        "(train_images, train_labels), (test_images, test_labels) = fashion_mnist.load_data()  # split into tetsing and training"
      ],
      "metadata": {
        "colab": {
          "base_uri": "https://localhost:8080/"
        },
        "id": "AMwNN01j8BjB",
        "outputId": "cea0e3e2-1940-4f8d-ac27-f93f456b4cbc"
      },
      "execution_count": 11,
      "outputs": [
        {
          "output_type": "stream",
          "name": "stdout",
          "text": [
            "<module 'keras.api._v2.keras.datasets.fashion_mnist' from '/usr/local/lib/python3.7/dist-packages/keras/api/_v2/keras/datasets/fashion_mnist/__init__.py'>\n"
          ]
        }
      ]
    },
    {
      "cell_type": "code",
      "source": [
        "train_images.shape"
      ],
      "metadata": {
        "colab": {
          "base_uri": "https://localhost:8080/"
        },
        "id": "-qebc6fcDrwX",
        "outputId": "6f8e3bb8-4ed4-4f69-c221-78f76babef3f"
      },
      "execution_count": 3,
      "outputs": [
        {
          "output_type": "execute_result",
          "data": {
            "text/plain": [
              "(60000, 28, 28)"
            ]
          },
          "metadata": {},
          "execution_count": 3
        }
      ]
    },
    {
      "cell_type": "code",
      "source": [
        "train_images[0,23,23]  # let's have a look at one pixel"
      ],
      "metadata": {
        "colab": {
          "base_uri": "https://localhost:8080/"
        },
        "id": "H83bPEXcDuHW",
        "outputId": "4ae13123-70b1-47bc-a9bb-c25b58991ec6"
      },
      "execution_count": 4,
      "outputs": [
        {
          "output_type": "execute_result",
          "data": {
            "text/plain": [
              "194"
            ]
          },
          "metadata": {},
          "execution_count": 4
        }
      ]
    },
    {
      "cell_type": "code",
      "source": [
        "train_labels[:1000]  # let's have a look at the first 10 training labels"
      ],
      "metadata": {
        "colab": {
          "base_uri": "https://localhost:8080/"
        },
        "id": "cHMBqoglEj7J",
        "outputId": "ae4872a0-287a-49ee-8647-69ce157eb1df"
      },
      "execution_count": 12,
      "outputs": [
        {
          "output_type": "execute_result",
          "data": {
            "text/plain": [
              "array([9, 0, 0, 3, 0, 2, 7, 2, 5, 5, 0, 9, 5, 5, 7, 9, 1, 0, 6, 4, 3, 1,\n",
              "       4, 8, 4, 3, 0, 2, 4, 4, 5, 3, 6, 6, 0, 8, 5, 2, 1, 6, 6, 7, 9, 5,\n",
              "       9, 2, 7, 3, 0, 3, 3, 3, 7, 2, 2, 6, 6, 8, 3, 3, 5, 0, 5, 5, 0, 2,\n",
              "       0, 0, 4, 1, 3, 1, 6, 3, 1, 4, 4, 6, 1, 9, 1, 3, 5, 7, 9, 7, 1, 7,\n",
              "       9, 9, 9, 3, 2, 9, 3, 6, 4, 1, 1, 8, 8, 0, 1, 1, 6, 8, 1, 9, 7, 8,\n",
              "       8, 9, 6, 6, 3, 1, 5, 4, 6, 7, 5, 5, 9, 2, 2, 2, 7, 6, 4, 1, 8, 7,\n",
              "       7, 5, 4, 2, 9, 1, 7, 4, 6, 9, 7, 1, 8, 7, 1, 2, 8, 0, 9, 1, 8, 7,\n",
              "       0, 5, 8, 6, 7, 2, 0, 8, 7, 1, 6, 2, 1, 9, 6, 0, 1, 0, 5, 5, 1, 7,\n",
              "       0, 5, 8, 4, 0, 4, 0, 6, 6, 4, 0, 0, 4, 7, 3, 0, 5, 8, 4, 1, 1, 2,\n",
              "       9, 2, 8, 5, 0, 6, 3, 4, 6, 0, 9, 1, 7, 3, 8, 5, 8, 3, 8, 5, 2, 0,\n",
              "       8, 7, 0, 3, 5, 0, 6, 5, 2, 7, 5, 2, 6, 8, 2, 6, 8, 0, 4, 4, 4, 4,\n",
              "       4, 1, 5, 6, 5, 3, 3, 7, 3, 3, 6, 2, 8, 4, 6, 5, 9, 3, 2, 3, 2, 4,\n",
              "       4, 8, 2, 5, 3, 0, 7, 2, 0, 2, 5, 7, 2, 3, 1, 7, 6, 2, 9, 1, 9, 1,\n",
              "       1, 8, 7, 8, 4, 2, 6, 6, 7, 9, 4, 6, 1, 9, 5, 6, 0, 5, 0, 1, 6, 1,\n",
              "       1, 6, 7, 4, 4, 8, 6, 4, 6, 9, 3, 7, 5, 0, 8, 3, 4, 0, 3, 3, 2, 0,\n",
              "       1, 0, 3, 8, 3, 9, 1, 9, 0, 4, 7, 7, 8, 5, 6, 5, 6, 8, 2, 5, 2, 3,\n",
              "       1, 6, 0, 7, 8, 7, 8, 1, 9, 6, 4, 5, 7, 1, 7, 6, 6, 7, 3, 5, 8, 7,\n",
              "       3, 3, 9, 0, 3, 1, 6, 4, 7, 0, 5, 1, 5, 4, 4, 5, 9, 1, 0, 5, 8, 3,\n",
              "       4, 4, 2, 4, 2, 5, 6, 7, 2, 2, 5, 3, 8, 8, 6, 8, 4, 4, 1, 0, 2, 7,\n",
              "       1, 1, 8, 8, 2, 7, 9, 7, 4, 1, 2, 0, 8, 9, 1, 4, 9, 5, 6, 7, 0, 3,\n",
              "       2, 0, 4, 1, 0, 0, 8, 7, 0, 2, 9, 9, 1, 3, 8, 3, 1, 4, 8, 5, 1, 8,\n",
              "       2, 4, 4, 9, 5, 5, 4, 5, 6, 3, 7, 4, 9, 5, 8, 9, 3, 9, 6, 4, 7, 2,\n",
              "       2, 6, 4, 8, 3, 0, 2, 8, 9, 0, 8, 6, 3, 9, 1, 6, 3, 2, 6, 1, 0, 2,\n",
              "       6, 2, 3, 3, 9, 1, 7, 9, 1, 1, 0, 1, 7, 0, 8, 5, 0, 6, 0, 1, 6, 6,\n",
              "       8, 7, 0, 9, 9, 9, 7, 4, 3, 9, 5, 9, 1, 4, 1, 6, 2, 2, 2, 7, 7, 6,\n",
              "       3, 7, 5, 8, 6, 4, 8, 4, 7, 8, 6, 5, 9, 9, 0, 0, 2, 4, 3, 7, 9, 3,\n",
              "       1, 9, 2, 7, 5, 5, 4, 8, 2, 7, 8, 1, 2, 6, 6, 8, 1, 9, 6, 0, 0, 5,\n",
              "       9, 3, 3, 7, 6, 1, 0, 0, 6, 4, 7, 5, 9, 7, 9, 3, 8, 8, 4, 8, 5, 4,\n",
              "       2, 2, 7, 7, 5, 8, 4, 6, 9, 4, 3, 7, 8, 7, 8, 3, 7, 8, 4, 7, 7, 2,\n",
              "       2, 0, 0, 0, 3, 9, 1, 0, 9, 8, 4, 3, 9, 9, 9, 8, 8, 5, 4, 5, 4, 9,\n",
              "       8, 8, 0, 9, 2, 0, 7, 3, 7, 9, 3, 8, 4, 3, 7, 8, 1, 4, 0, 7, 9, 8,\n",
              "       5, 5, 2, 1, 3, 4, 6, 7, 7, 5, 9, 9, 7, 8, 2, 7, 4, 7, 0, 3, 5, 1,\n",
              "       1, 5, 5, 2, 8, 3, 5, 9, 0, 7, 3, 0, 0, 7, 1, 9, 4, 8, 9, 1, 8, 3,\n",
              "       4, 7, 7, 7, 1, 4, 0, 4, 5, 8, 8, 6, 5, 7, 1, 0, 2, 4, 9, 0, 9, 8,\n",
              "       6, 2, 8, 1, 4, 1, 1, 2, 3, 3, 8, 9, 5, 1, 6, 4, 5, 9, 6, 2, 8, 8,\n",
              "       7, 0, 1, 6, 5, 5, 6, 5, 4, 6, 0, 6, 1, 1, 5, 7, 6, 5, 4, 0, 6, 0,\n",
              "       7, 2, 8, 9, 1, 6, 7, 1, 9, 8, 3, 5, 7, 1, 1, 9, 0, 6, 4, 8, 0, 9,\n",
              "       5, 0, 0, 1, 8, 7, 6, 7, 9, 0, 3, 0, 1, 3, 8, 0, 0, 1, 7, 4, 7, 3,\n",
              "       7, 0, 6, 0, 2, 3, 4, 5, 9, 5, 2, 8, 7, 0, 1, 4, 1, 8, 3, 2, 7, 5,\n",
              "       0, 9, 6, 6, 9, 3, 1, 1, 9, 9, 3, 9, 7, 3, 1, 9, 1, 6, 3, 0, 4, 8,\n",
              "       0, 6, 6, 2, 9, 1, 9, 8, 3, 4, 7, 2, 0, 0, 8, 6, 9, 1, 2, 5, 2, 8,\n",
              "       5, 6, 7, 0, 6, 8, 7, 1, 0, 3, 4, 7, 5, 2, 5, 1, 1, 5, 7, 5, 1, 4,\n",
              "       9, 6, 7, 5, 7, 3, 8, 2, 9, 4, 2, 5, 5, 7, 4, 2, 6, 9, 0, 5, 3, 6,\n",
              "       9, 5, 3, 6, 0, 3, 5, 7, 1, 2, 5, 7, 8, 1, 6, 3, 9, 7, 7, 0, 4, 0,\n",
              "       8, 7, 6, 9, 0, 2, 7, 6, 0, 4, 7, 4, 1, 2, 6, 7, 8, 2, 5, 6, 0, 2,\n",
              "       9, 8, 5, 4, 5, 7, 3, 3, 9, 8], dtype=uint8)"
            ]
          },
          "metadata": {},
          "execution_count": 12
        }
      ]
    },
    {
      "cell_type": "code",
      "source": [
        "class_names = ['T-shirt/top', 'Trouser', 'Pullover', 'Dress', 'Coat',\n",
        "               'Sandal', 'Shirt', 'Sneaker', 'Bag', 'Ankle boot']"
      ],
      "metadata": {
        "id": "IYGh_oaxEoeB"
      },
      "execution_count": 6,
      "outputs": []
    },
    {
      "cell_type": "code",
      "source": [
        "plt.figure()\n",
        "plt.imshow(train_images[1])\n",
        "plt.colorbar()\n",
        "plt.grid(False)\n",
        "plt.show()"
      ],
      "metadata": {
        "colab": {
          "base_uri": "https://localhost:8080/",
          "height": 265
        },
        "id": "nrVyN-1JFT3_",
        "outputId": "ada75b70-242a-4c39-c232-5e7a3d78e811"
      },
      "execution_count": 7,
      "outputs": [
        {
          "output_type": "display_data",
          "data": {
            "image/png": "[encoded data removed]",
            "text/plain": [
              "<Figure size 432x288 with 2 Axes>"
            ]
          },
          "metadata": {
            "needs_background": "light"
          }
        }
      ]
    },
    {
      "cell_type": "code",
      "source": [
        "train_images = train_images / 255.0\n",
        "\n",
        "test_images = test_images / 255.0"
      ],
      "metadata": {
        "id": "G-QqXaagGNFG"
      },
      "execution_count": 8,
      "outputs": []
    },
    {
      "cell_type": "code",
      "source": [
        "model = keras.Sequential([\n",
        "    keras.layers.Flatten(input_shape=(28, 28)),  # input layer (1)\n",
        "    keras.layers.Dense(128, activation='relu'),  # hidden layer (2)\n",
        "    keras.layers.Dense(10, activation='softmax') # output layer (3)\n",
        "])"
      ],
      "metadata": {
        "id": "QO2cRG3nrdPY"
      },
      "execution_count": 9,
      "outputs": []
    },
    {
      "cell_type": "code",
      "source": [
        "model.compile(optimizer='adam',\n",
        "              loss='sparse_categorical_crossentropy',\n",
        "              metrics=['accuracy'])"
      ],
      "metadata": {
        "id": "4ICPK4J0rja_"
      },
      "execution_count": 13,
      "outputs": []
    },
    {
      "cell_type": "code",
      "source": [
        "model.fit(train_images, train_labels, epochs=10)  # we pass the data, labels and epochs and watch the magic!"
      ],
      "metadata": {
        "colab": {
          "base_uri": "https://localhost:8080/"
        },
        "id": "wfgbDSkbr_zT",
        "outputId": "fb51b716-b5e5-44b6-8f6c-2cf918641fbd"
      },
      "execution_count": 14,
      "outputs": [
        {
          "output_type": "stream",
          "name": "stdout",
          "text": [
            "Epoch 1/10\n",
            "1875/1875 [==============================] - 6s 3ms/step - loss: 3.3738 - accuracy: 0.6757\n",
            "Epoch 2/10\n",
            "1875/1875 [==============================] - 5s 3ms/step - loss: 0.6790 - accuracy: 0.7296\n",
            "Epoch 3/10\n",
            "1875/1875 [==============================] - 5s 3ms/step - loss: 0.6029 - accuracy: 0.7671\n",
            "Epoch 4/10\n",
            "1875/1875 [==============================] - 5s 3ms/step - loss: 0.5561 - accuracy: 0.8029\n",
            "Epoch 5/10\n",
            "1875/1875 [==============================] - 5s 3ms/step - loss: 0.5201 - accuracy: 0.8165\n",
            "Epoch 6/10\n",
            "1875/1875 [==============================] - 5s 3ms/step - loss: 0.5116 - accuracy: 0.8238\n",
            "Epoch 7/10\n",
            "1875/1875 [==============================] - 4s 2ms/step - loss: 0.5042 - accuracy: 0.8243\n",
            "Epoch 8/10\n",
            "1875/1875 [==============================] - 4s 2ms/step - loss: 0.5037 - accuracy: 0.8291\n",
            "Epoch 9/10\n",
            "1875/1875 [==============================] - 5s 3ms/step - loss: 0.4935 - accuracy: 0.8302\n",
            "Epoch 10/10\n",
            "1875/1875 [==============================] - 5s 3ms/step - loss: 0.4942 - accuracy: 0.8311\n"
          ]
        },
        {
          "output_type": "execute_result",
          "data": {
            "text/plain": [
              "<keras.callbacks.History at 0x7f65aeae5450>"
            ]
          },
          "metadata": {},
          "execution_count": 14
        }
      ]
    },
    {
      "cell_type": "code",
      "source": [
        "model.fit(train_images, train_labels, epochs=10)  # we pass the data, labels and epochs and watch the magic!\n"
      ],
      "metadata": {
        "colab": {
          "base_uri": "https://localhost:8080/"
        },
        "id": "NrvtXZ-RsDoo",
        "outputId": "a8237fe7-595f-4857-85a9-7f036c3383d7"
      },
      "execution_count": 15,
      "outputs": [
        {
          "output_type": "stream",
          "name": "stdout",
          "text": [
            "Epoch 1/10\n",
            "1875/1875 [==============================] - 5s 3ms/step - loss: 0.4855 - accuracy: 0.8342\n",
            "Epoch 2/10\n",
            "1875/1875 [==============================] - 5s 3ms/step - loss: 0.4858 - accuracy: 0.8351\n",
            "Epoch 3/10\n",
            "1875/1875 [==============================] - 5s 3ms/step - loss: 0.4835 - accuracy: 0.8371\n",
            "Epoch 4/10\n",
            "1875/1875 [==============================] - 5s 3ms/step - loss: 0.4823 - accuracy: 0.8362\n",
            "Epoch 5/10\n",
            "1875/1875 [==============================] - 5s 3ms/step - loss: 0.4762 - accuracy: 0.8368\n",
            "Epoch 6/10\n",
            "1875/1875 [==============================] - 5s 3ms/step - loss: 0.4832 - accuracy: 0.8385\n",
            "Epoch 7/10\n",
            "1875/1875 [==============================] - 5s 3ms/step - loss: 0.4737 - accuracy: 0.8389\n",
            "Epoch 8/10\n",
            "1875/1875 [==============================] - 5s 3ms/step - loss: 0.4771 - accuracy: 0.8389\n",
            "Epoch 9/10\n",
            "1875/1875 [==============================] - 5s 3ms/step - loss: 0.4715 - accuracy: 0.8404\n",
            "Epoch 10/10\n",
            "1875/1875 [==============================] - 5s 3ms/step - loss: 0.4692 - accuracy: 0.8401\n"
          ]
        },
        {
          "output_type": "execute_result",
          "data": {
            "text/plain": [
              "<keras.callbacks.History at 0x7f65ab35b350>"
            ]
          },
          "metadata": {},
          "execution_count": 15
        }
      ]
    },
    {
      "cell_type": "code",
      "source": [
        "predictions = model.predict(test_images)"
      ],
      "metadata": {
        "id": "IBmZDb4CsJ3g"
      },
      "execution_count": 16,
      "outputs": []
    },
    {
      "cell_type": "code",
      "source": [
        "predictions[0]\n",
        "np.argmax(predictions[0])\n",
        "test_labels[0]\n",
        "COLOR = 'white'\n",
        "plt.rcParams['text.color'] = COLOR\n",
        "plt.rcParams['axes.labelcolor'] = COLOR\n",
        "\n",
        "def predict(model, image, correct_label):\n",
        "  class_names = ['T-shirt/top', 'Trouser', 'Pullover', 'Dress', 'Coat',\n",
        "               'Sandal', 'Shirt', 'Sneaker', 'Bag', 'Ankle boot']\n",
        "  prediction = model.predict(np.array([image]))\n",
        "  predicted_class = class_names[np.argmax(prediction)]\n",
        "\n",
        "  show_image(image, class_names[correct_label], predicted_class)\n",
        "\n",
        "\n",
        "def show_image(img, label, guess):\n",
        "  plt.figure()\n",
        "  plt.imshow(img, cmap=plt.cm.binary)\n",
        "  plt.title(\"Excpected: \" + label)\n",
        "  plt.xlabel(\"Guess: \" + guess)\n",
        "  plt.colorbar()\n",
        "  plt.grid(False)\n",
        "  plt.show()\n",
        "\n",
        "\n",
        "def get_number():\n",
        "  while True:\n",
        "    num = input(\"Pick a number: \")\n",
        "    if num.isdigit():\n",
        "      num = int(num)\n",
        "      if 0 <= num <= 1000:\n",
        "        return int(num)\n",
        "    else:\n",
        "      print(\"Try again...\")\n",
        "\n",
        "num = get_number()\n",
        "image = test_images[num]\n",
        "label = test_labels[num]\n",
        "predict(model, image, label)"
      ],
      "metadata": {
        "colab": {
          "base_uri": "https://localhost:8080/",
          "height": 312
        },
        "id": "Khyx9yMVsMMD",
        "outputId": "1e19db4e-ad6f-43d2-dafa-c6092f1ee57b"
      },
      "execution_count": 18,
      "outputs": [
        {
          "name": "stdout",
          "output_type": "stream",
          "text": [
            "Pick a number: 1\n"
          ]
        },
        {
          "output_type": "display_data",
          "data": {
            "image/png": "[encoded data removed]",
            "text/plain": [
              "<Figure size 432x288 with 2 Axes>"
            ]
          },
          "metadata": {
            "needs_background": "light"
          }
        }
      ]
    }
  ]
}